{
 "cells": [
  {
   "cell_type": "code",
   "execution_count": null,
   "id": "6d1761e3-924d-4dca-a9ac-a812c8554537",
   "metadata": {},
   "outputs": [],
   "source": [
    "1.list comprehssion\n",
    "2.dict comprehssion\n",
    "3.tuple comprehssion"
   ]
  },
  {
   "cell_type": "code",
   "execution_count": 1,
   "id": "68d218b4-b845-4c4f-a08e-e69c83354911",
   "metadata": {},
   "outputs": [],
   "source": [
    "p = [45,754,234,654,345,64]\n"
   ]
  },
  {
   "cell_type": "code",
   "execution_count": null,
   "id": "b4f3c884-a37c-4bdd-b313-aacacf4132d0",
   "metadata": {},
   "outputs": [],
   "source": [
    "operarion on elements one by one "
   ]
  },
  {
   "cell_type": "code",
   "execution_count": 3,
   "id": "9bbb70e0-e448-4ef0-94ed-5b313a554edd",
   "metadata": {},
   "outputs": [
    {
     "name": "stdout",
     "output_type": "stream",
     "text": [
      "[754, 234, 654, 64]\n"
     ]
    }
   ],
   "source": [
    "even = []\n",
    "for i in p:\n",
    "    if i%2==0:\n",
    "        even.append(i)\n",
    "print(even)"
   ]
  },
  {
   "cell_type": "code",
   "execution_count": null,
   "id": "2852fd60-d864-4abf-9e40-b6da827cb959",
   "metadata": {},
   "outputs": [],
   "source": [
    "[var for var in DS if condition]"
   ]
  },
  {
   "cell_type": "code",
   "execution_count": null,
   "id": "418f950c-d824-4ed8-a9cf-194e3918daa9",
   "metadata": {},
   "outputs": [],
   "source": [
    "loop + condition"
   ]
  },
  {
   "cell_type": "code",
   "execution_count": 5,
   "id": "c9a2f9eb-27ec-48a1-9efc-5404d9c2e265",
   "metadata": {},
   "outputs": [
    {
     "data": {
      "text/plain": [
       "[45, 754, 234, 654, 345, 64]"
      ]
     },
     "execution_count": 5,
     "metadata": {},
     "output_type": "execute_result"
    }
   ],
   "source": [
    "p"
   ]
  },
  {
   "cell_type": "code",
   "execution_count": 7,
   "id": "08aeadd6-b899-4e0a-a625-8891c6a56e6d",
   "metadata": {},
   "outputs": [
    {
     "data": {
      "text/plain": [
       "[754, 234, 654, 64]"
      ]
     },
     "execution_count": 7,
     "metadata": {},
     "output_type": "execute_result"
    }
   ],
   "source": [
    "[i for i in p if i%2==0]"
   ]
  },
  {
   "cell_type": "code",
   "execution_count": null,
   "id": "6b03d717-18fe-424f-9e94-f7bc3a2cf4de",
   "metadata": {},
   "outputs": [],
   "source": [
    "filter -> function apply --> ouput --> list|tuple |set"
   ]
  },
  {
   "cell_type": "code",
   "execution_count": null,
   "id": "92d1fe9a-5c88-4312-9250-ae1907ed71e1",
   "metadata": {},
   "outputs": [],
   "source": [
    "list comprehssion ---> list complex "
   ]
  },
  {
   "cell_type": "code",
   "execution_count": null,
   "id": "ffb5287c-26ee-4282-92bd-cb3995ec0895",
   "metadata": {},
   "outputs": [],
   "source": [
    "[pune --100 \n",
    " "
   ]
  },
  {
   "cell_type": "code",
   "execution_count": 11,
   "id": "4ba12224-38d3-44d3-abcf-b8b58b350c12",
   "metadata": {},
   "outputs": [],
   "source": [
    "def city_encode(city):\n",
    "    if city=='pune':\n",
    "        return 100\n",
    "    elif city=='mumbai':\n",
    "        return 200\n",
    "    elif city=='chennai':\n",
    "        return 300\n",
    "    else:\n",
    "        return 400"
   ]
  },
  {
   "cell_type": "code",
   "execution_count": 15,
   "id": "6ece83c0-02cd-43af-a4e6-26be926c5535",
   "metadata": {},
   "outputs": [],
   "source": [
    "p = ['pune','chennai','pune','mumbai','banglore']"
   ]
  },
  {
   "cell_type": "code",
   "execution_count": 17,
   "id": "3a0d3a08-e041-45de-be85-3f67b564e248",
   "metadata": {},
   "outputs": [
    {
     "data": {
      "text/plain": [
       "[100, 300, 100, 200, 400]"
      ]
     },
     "execution_count": 17,
     "metadata": {},
     "output_type": "execute_result"
    }
   ],
   "source": [
    "list(map(city_encode,p))"
   ]
  },
  {
   "cell_type": "code",
   "execution_count": 21,
   "id": "cfc25e93-a938-4a5e-9343-4f573e50e46c",
   "metadata": {},
   "outputs": [
    {
     "data": {
      "text/plain": [
       "[100, 300, 100, 200, 400]"
      ]
     },
     "execution_count": 21,
     "metadata": {},
     "output_type": "execute_result"
    }
   ],
   "source": [
    "list(map(lambda x: 100 if x=='pune' else 200 if x=='mumbai' else 300 if x=='chennai' else 400,p))"
   ]
  },
  {
   "cell_type": "code",
   "execution_count": null,
   "id": "0d8398e9-fc96-46c2-89ec-c80773a42c2b",
   "metadata": {},
   "outputs": [],
   "source": [
    "100 if x=='pune' else 200 if x=='mumbai' else  300 if x=='chennai' else 400"
   ]
  },
  {
   "cell_type": "code",
   "execution_count": 25,
   "id": "9101f0f0-050a-4648-986e-ee1d8317af97",
   "metadata": {},
   "outputs": [],
   "source": [
    "x = 500\n",
    "\n",
    "y = 800\n",
    "\n",
    "z = 900"
   ]
  },
  {
   "cell_type": "code",
   "execution_count": null,
   "id": "cbac5110-a876-4d1b-ab6b-8cbeee81f230",
   "metadata": {},
   "outputs": [],
   "source": [
    "dict comprehssion\n"
   ]
  },
  {
   "cell_type": "code",
   "execution_count": null,
   "id": "93810414-66ef-412a-89e7-b8b84c8357a7",
   "metadata": {},
   "outputs": [],
   "source": [
    "{k:v for k,v in DS if condition}"
   ]
  },
  {
   "cell_type": "code",
   "execution_count": 27,
   "id": "e60ea36d-b8c6-4f17-a74d-f8f5e0ab1991",
   "metadata": {},
   "outputs": [],
   "source": [
    "data = [('id',101),('name','keshav'),('sal',6565)]"
   ]
  },
  {
   "cell_type": "code",
   "execution_count": 29,
   "id": "4bbf10b4-e848-428f-a630-06d1b6625c38",
   "metadata": {},
   "outputs": [
    {
     "data": {
      "text/plain": [
       "{'id': 101, 'name': 'keshav', 'sal': 6565}"
      ]
     },
     "execution_count": 29,
     "metadata": {},
     "output_type": "execute_result"
    }
   ],
   "source": [
    "{k:v for k,v in data}"
   ]
  },
  {
   "cell_type": "code",
   "execution_count": null,
   "id": "94a3d35a-f78e-4585-93ba-6c363411517a",
   "metadata": {},
   "outputs": [],
   "source": [
    "data -- > dict --> json"
   ]
  },
  {
   "cell_type": "code",
   "execution_count": 31,
   "id": "4e8edc80-04f5-44d0-9d2e-6bee62c0124f",
   "metadata": {},
   "outputs": [],
   "source": [
    "p = [1,2,3,4,5]"
   ]
  },
  {
   "cell_type": "code",
   "execution_count": null,
   "id": "08b5c584-c723-4da4-8ccd-44c4f7e41ad2",
   "metadata": {},
   "outputs": [],
   "source": [
    "{1:1,2:4,3:9,4:16}"
   ]
  },
  {
   "cell_type": "code",
   "execution_count": 33,
   "id": "5bc112a8-6420-41b2-bc04-e2b73336d76e",
   "metadata": {},
   "outputs": [
    {
     "data": {
      "text/plain": [
       "{1: 1, 2: 4, 3: 9, 4: 16, 5: 25}"
      ]
     },
     "execution_count": 33,
     "metadata": {},
     "output_type": "execute_result"
    }
   ],
   "source": [
    "{i:i**2 for i in p}"
   ]
  },
  {
   "cell_type": "code",
   "execution_count": 35,
   "id": "db78b226-3cbb-49af-b1cc-09345149842c",
   "metadata": {},
   "outputs": [],
   "source": [
    "p = ['px-4353','dx-5435','pt-5353']"
   ]
  },
  {
   "cell_type": "code",
   "execution_count": 39,
   "id": "6b5c8f35-6994-4ec8-92b1-e4c087615c6e",
   "metadata": {},
   "outputs": [
    {
     "data": {
      "text/plain": [
       "['4353', '5435', '5353']"
      ]
     },
     "execution_count": 39,
     "metadata": {},
     "output_type": "execute_result"
    }
   ],
   "source": [
    "[i.split('-')[-1] for i in p]"
   ]
  },
  {
   "cell_type": "code",
   "execution_count": 43,
   "id": "b155053d-ae70-45eb-8644-f0d78dc25935",
   "metadata": {},
   "outputs": [],
   "source": [
    "p = ['copper-45345','gold-4534534','silver-45435']"
   ]
  },
  {
   "cell_type": "code",
   "execution_count": null,
   "id": "cf04d02d-e0f4-4a52-ae31-ea4628b9580b",
   "metadata": {},
   "outputs": [],
   "source": [
    "{'copper':45345,'gold':4534534...}"
   ]
  },
  {
   "cell_type": "code",
   "execution_count": 45,
   "id": "583c4c7d-6934-48b0-bffb-151e0e2175df",
   "metadata": {},
   "outputs": [
    {
     "data": {
      "text/plain": [
       "{'copper': '45345', 'gold': '4534534', 'silver': '45435'}"
      ]
     },
     "execution_count": 45,
     "metadata": {},
     "output_type": "execute_result"
    }
   ],
   "source": [
    "{i.split('-')[0] : i.split('-')[-1] for i in p}"
   ]
  },
  {
   "cell_type": "code",
   "execution_count": 49,
   "id": "f7f3b473-98a9-424d-8250-68dbafa2e6dc",
   "metadata": {},
   "outputs": [
    {
     "data": {
      "text/plain": [
       "'copper'"
      ]
     },
     "execution_count": 49,
     "metadata": {},
     "output_type": "execute_result"
    }
   ],
   "source": [
    "'copper-45345'.split('-')[0]"
   ]
  },
  {
   "cell_type": "code",
   "execution_count": 51,
   "id": "a220f584-1a46-4fcc-bdde-78fd30457d25",
   "metadata": {},
   "outputs": [
    {
     "data": {
      "text/plain": [
       "'45345'"
      ]
     },
     "execution_count": 51,
     "metadata": {},
     "output_type": "execute_result"
    }
   ],
   "source": [
    "'copper-45345'.split('-')[-1]"
   ]
  },
  {
   "cell_type": "code",
   "execution_count": 53,
   "id": "c637f7bb-0638-4974-8b2e-100ed4db035b",
   "metadata": {},
   "outputs": [],
   "source": [
    "p = ['test@gmail.com','sample@gmail.com','python@rediffmail.com','ml@yahoo.com']"
   ]
  },
  {
   "cell_type": "code",
   "execution_count": null,
   "id": "e4adde29-a47c-4f51-88be-081ccd9e0f9d",
   "metadata": {},
   "outputs": [],
   "source": [
    "{'gmail' :  ['test@gmail.com','sample@gmail.com']\n",
    " 'rediffmail' :['python@rediffmail.com']\n",
    "'yahoo':['ml@yahoo.com']\n",
    "}\n",
    "\n",
    "\n",
    "'432423-s','435435-p'\n",
    "\n",
    "p          s\n",
    "423432    432343\n",
    "\n",
    "\n",
    "\n",
    "\n",
    "gmail   rediffmail   yahoo\n",
    "\n"
   ]
  },
  {
   "cell_type": "code",
   "execution_count": null,
   "id": "0595e2db-1bf9-42bd-b61b-3dcb6cf90081",
   "metadata": {},
   "outputs": [],
   "source": [
    "try :\n",
    "    normal function\n",
    "    comprehssion"
   ]
  },
  {
   "cell_type": "code",
   "execution_count": null,
   "id": "2039adc0-d809-4198-b5ab-233a9ba1f531",
   "metadata": {},
   "outputs": [],
   "source": [
    "tuple comprehssion :\n",
    "\n",
    "is not possible in python\n",
    "if we create it will return generator object"
   ]
  },
  {
   "cell_type": "code",
   "execution_count": null,
   "id": "b3a95bfb-b964-49f3-bb22-d2881c15dec9",
   "metadata": {},
   "outputs": [],
   "source": []
  },
  {
   "cell_type": "code",
   "execution_count": 57,
   "id": "603b368f-588a-408f-94f1-b5a300f0f2ea",
   "metadata": {},
   "outputs": [
    {
     "data": {
      "text/plain": [
       "['test', 'sample', 'python', 'ml']"
      ]
     },
     "execution_count": 57,
     "metadata": {},
     "output_type": "execute_result"
    }
   ],
   "source": [
    "[i.split('@')[0] for i in p]"
   ]
  },
  {
   "cell_type": "code",
   "execution_count": 59,
   "id": "517580ff-460d-46c3-b475-3299d53e97e7",
   "metadata": {},
   "outputs": [
    {
     "data": {
      "text/plain": [
       "<generator object <genexpr> at 0x00000270742185F0>"
      ]
     },
     "execution_count": 59,
     "metadata": {},
     "output_type": "execute_result"
    }
   ],
   "source": [
    "(i.split('@')[0] for i in p)"
   ]
  },
  {
   "cell_type": "code",
   "execution_count": 61,
   "id": "72d490e9-1ace-461b-900e-8769ab5ad7ea",
   "metadata": {},
   "outputs": [
    {
     "data": {
      "text/plain": [
       "['test@gmail.com', 'sample@gmail.com', 'python@rediffmail.com', 'ml@yahoo.com']"
      ]
     },
     "execution_count": 61,
     "metadata": {},
     "output_type": "execute_result"
    }
   ],
   "source": [
    "p"
   ]
  },
  {
   "cell_type": "code",
   "execution_count": null,
   "id": "6d0f2356-5da3-4bca-ac91-49cde7b26250",
   "metadata": {},
   "outputs": [],
   "source": [
    "['test', 'sample', 'python', 'ml']"
   ]
  },
  {
   "cell_type": "code",
   "execution_count": null,
   "id": "19cfe58c-51e1-488c-b9f1-5b6642261eab",
   "metadata": {},
   "outputs": [],
   "source": [
    "1.for loop\n",
    "2.comprehssion\n",
    "3.using lambda with map\n",
    "4.function without lambda\n",
    "5.function with map"
   ]
  },
  {
   "cell_type": "code",
   "execution_count": null,
   "id": "09a2e0fd-311f-4d6f-bf9a-e59b952f39fd",
   "metadata": {},
   "outputs": [],
   "source": [
    "#Generator and iterator"
   ]
  },
  {
   "cell_type": "code",
   "execution_count": null,
   "id": "98168939-4eda-4c6d-9f9a-17cf01b46a21",
   "metadata": {},
   "outputs": [],
   "source": [
    "list ,tuple -- [data] -- memory consume"
   ]
  },
  {
   "cell_type": "code",
   "execution_count": null,
   "id": "df1aaee8-f9ba-4d26-900c-fc227e460a4c",
   "metadata": {},
   "outputs": [],
   "source": [
    "range(start,stop-1,step) --> memory\n"
   ]
  },
  {
   "cell_type": "code",
   "execution_count": null,
   "id": "a98d6808-0129-4a5e-90ba-14e4bbb01310",
   "metadata": {},
   "outputs": [],
   "source": [
    "Generator :\n",
    "\n",
    "it is use to generate seq of number\n",
    "start -- end -- object --> single memory"
   ]
  },
  {
   "cell_type": "code",
   "execution_count": null,
   "id": "aba15d67-c906-4149-bba7-32f05dabf298",
   "metadata": {},
   "outputs": [],
   "source": [
    "[for i in range(434353535353535)]"
   ]
  },
  {
   "cell_type": "code",
   "execution_count": null,
   "id": "4c162766-529a-42cd-8322-6c79e0a440fd",
   "metadata": {},
   "outputs": [],
   "source": [
    "Generator -  at a time one number "
   ]
  },
  {
   "cell_type": "code",
   "execution_count": null,
   "id": "999e2962-a318-44f0-b808-9812b68f2541",
   "metadata": {},
   "outputs": [],
   "source": [
    "loop - -  1 -9999999999999999999999999999999999999999999999"
   ]
  },
  {
   "cell_type": "code",
   "execution_count": null,
   "id": "38fa72b4-d911-4033-a8fc-6dae94d76992",
   "metadata": {},
   "outputs": [],
   "source": [
    "function with yield keyword\n",
    "\n",
    "\n",
    "yield vs return"
   ]
  },
  {
   "cell_type": "code",
   "execution_count": null,
   "id": "5b37d7cc-6ce8-42c1-95fb-1b1049674189",
   "metadata": {},
   "outputs": [],
   "source": [
    "function \n",
    "\n",
    "yield -- generator"
   ]
  },
  {
   "cell_type": "code",
   "execution_count": 71,
   "id": "28e7fbb6-7cfa-4502-aafa-7acb31cfabf5",
   "metadata": {},
   "outputs": [],
   "source": [
    "def test():\n",
    "    yield 'a'"
   ]
  },
  {
   "cell_type": "code",
   "execution_count": 73,
   "id": "1c7ad4d0-faa1-4e09-87a5-afc49e1f45b8",
   "metadata": {},
   "outputs": [
    {
     "data": {
      "text/plain": [
       "<generator object test at 0x0000027075B4BAB0>"
      ]
     },
     "execution_count": 73,
     "metadata": {},
     "output_type": "execute_result"
    }
   ],
   "source": [
    "test()"
   ]
  },
  {
   "cell_type": "code",
   "execution_count": null,
   "id": "f0c5e398-5227-45af-b36f-7e98ed87e523",
   "metadata": {},
   "outputs": [],
   "source": [
    "function -- return --> value return --> cursor -- function -- outside\n",
    "\n",
    "\n",
    "function -- yield --> iteration --> number generate --> return  "
   ]
  },
  {
   "cell_type": "code",
   "execution_count": 87,
   "id": "e71f9e43-3646-44cb-ab64-6e7025b3e928",
   "metadata": {},
   "outputs": [],
   "source": [
    "def test():\n",
    "    yield 'a'\n",
    "    yield 'b'\n",
    "    yield 'c'"
   ]
  },
  {
   "cell_type": "code",
   "execution_count": 89,
   "id": "52d2ee92-13de-4939-ba6a-bf57d06adb60",
   "metadata": {},
   "outputs": [],
   "source": [
    "obj =  test()"
   ]
  },
  {
   "cell_type": "code",
   "execution_count": 79,
   "id": "ec9eca63-2805-4161-b0c7-af4e811f3bea",
   "metadata": {},
   "outputs": [
    {
     "data": {
      "text/plain": [
       "<generator object test at 0x0000027075B4BB60>"
      ]
     },
     "execution_count": 79,
     "metadata": {},
     "output_type": "execute_result"
    }
   ],
   "source": [
    "obj"
   ]
  },
  {
   "cell_type": "code",
   "execution_count": 85,
   "id": "ca5cd504-ac23-4c8b-a471-3ecf31e82f8d",
   "metadata": {},
   "outputs": [
    {
     "data": {
      "text/plain": [
       "'c'"
      ]
     },
     "execution_count": 85,
     "metadata": {},
     "output_type": "execute_result"
    }
   ],
   "source": [
    "next(obj)"
   ]
  },
  {
   "cell_type": "code",
   "execution_count": 91,
   "id": "fcf136e4-119e-4a17-b77c-a407675aab77",
   "metadata": {},
   "outputs": [
    {
     "name": "stdout",
     "output_type": "stream",
     "text": [
      "a\n",
      "b\n",
      "c\n"
     ]
    }
   ],
   "source": [
    "for i in obj:\n",
    "    print(i)"
   ]
  },
  {
   "cell_type": "code",
   "execution_count": 99,
   "id": "4ff3ab81-8de0-4b99-b44c-a3ed7333ed2d",
   "metadata": {},
   "outputs": [],
   "source": [
    "def test():\n",
    "    yield '1'\n",
    "    yield '2'\n",
    "    yield '3'"
   ]
  },
  {
   "cell_type": "code",
   "execution_count": 101,
   "id": "a36417d7-a51a-4ac1-921c-cc3232b5e9dc",
   "metadata": {},
   "outputs": [],
   "source": [
    "pt = test()"
   ]
  },
  {
   "cell_type": "code",
   "execution_count": 97,
   "id": "c10566fa-7e62-4db9-93a7-03eb5f11ad54",
   "metadata": {},
   "outputs": [
    {
     "name": "stdout",
     "output_type": "stream",
     "text": [
      "1\n",
      "2\n",
      "3\n"
     ]
    }
   ],
   "source": [
    "for i in pt:\n",
    "    print(i)"
   ]
  },
  {
   "cell_type": "code",
   "execution_count": 103,
   "id": "933611d3-5654-4825-9c67-a9d09a3b2a6c",
   "metadata": {},
   "outputs": [
    {
     "data": {
      "text/plain": [
       "'1'"
      ]
     },
     "execution_count": 103,
     "metadata": {},
     "output_type": "execute_result"
    }
   ],
   "source": [
    "next(pt)"
   ]
  },
  {
   "cell_type": "code",
   "execution_count": 105,
   "id": "056dae89-bc1b-471e-9179-fc1b51666a22",
   "metadata": {},
   "outputs": [
    {
     "data": {
      "text/plain": [
       "'2'"
      ]
     },
     "execution_count": 105,
     "metadata": {},
     "output_type": "execute_result"
    }
   ],
   "source": [
    "next(pt)"
   ]
  },
  {
   "cell_type": "code",
   "execution_count": 107,
   "id": "a787bec0-a55a-4563-8601-8209a12e70df",
   "metadata": {},
   "outputs": [
    {
     "data": {
      "text/plain": [
       "'3'"
      ]
     },
     "execution_count": 107,
     "metadata": {},
     "output_type": "execute_result"
    }
   ],
   "source": [
    "next(pt)"
   ]
  },
  {
   "cell_type": "code",
   "execution_count": 109,
   "id": "d956aa11-6d2a-42d4-ace9-8d8f378d42e7",
   "metadata": {},
   "outputs": [
    {
     "ename": "StopIteration",
     "evalue": "",
     "output_type": "error",
     "traceback": [
      "\u001b[1;31m---------------------------------------------------------------------------\u001b[0m",
      "\u001b[1;31mStopIteration\u001b[0m                             Traceback (most recent call last)",
      "Cell \u001b[1;32mIn[109], line 1\u001b[0m\n\u001b[1;32m----> 1\u001b[0m \u001b[38;5;28mnext\u001b[39m(pt)\n",
      "\u001b[1;31mStopIteration\u001b[0m: "
     ]
    }
   ],
   "source": [
    "next(pt)"
   ]
  },
  {
   "cell_type": "code",
   "execution_count": null,
   "id": "3de71162-6d14-4bc0-bd97-b2034cc0502a",
   "metadata": {},
   "outputs": [],
   "source": []
  }
 ],
 "metadata": {
  "kernelspec": {
   "display_name": "Python 3 (ipykernel)",
   "language": "python",
   "name": "python3"
  },
  "language_info": {
   "codemirror_mode": {
    "name": "ipython",
    "version": 3
   },
   "file_extension": ".py",
   "mimetype": "text/x-python",
   "name": "python",
   "nbconvert_exporter": "python",
   "pygments_lexer": "ipython3",
   "version": "3.12.4"
  }
 },
 "nbformat": 4,
 "nbformat_minor": 5
}
